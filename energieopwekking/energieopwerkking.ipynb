{
 "cells": [
  {
   "cell_type": "code",
   "execution_count": null,
   "metadata": {},
   "outputs": [],
   "source": [
    "import numpy as np\n",
    "import pandas as pd\n",
    "%matplotlib inline\n",
    "import matplotlib as mpl\n",
    "import matplotlib.pyplot as plt\n",
    "import seaborn as sns\n",
    "%config IPCompleter.greedy=True"
   ]
  },
  {
   "cell_type": "code",
   "execution_count": null,
   "metadata": {},
   "outputs": [],
   "source": [
    "# sns.set_style('dark')\n",
    "sns.set()\n",
    "plt.rcParams['figure.figsize'] = 20, 10\n",
    "plt.rcParams['lines.markeredgewidth'] = 1\n",
    "# plt.style.use(\"dark_background\")\n"
   ]
  },
  {
   "cell_type": "code",
   "execution_count": null,
   "metadata": {
    "scrolled": false
   },
   "outputs": [],
   "source": [
    "current_palette = sns.color_palette()\n",
    "sns.palplot(current_palette)"
   ]
  },
  {
   "cell_type": "code",
   "execution_count": null,
   "metadata": {},
   "outputs": [],
   "source": [
    "xl_file_electriciteit_productie_en_productiemiddelen = pd.ExcelFile('data/CBS/Elektriciteit__productie_en_productiemiddelen.xlsx')\n",
    "df_elec_prod = xl_file_electriciteit_productie_en_productiemiddelen.parse(xl_file_electriciteit_productie_en_productiemiddelen.sheet_names[0]).fillna(0).set_index('Perioden')\n",
    "xl_file_elektriciteit_balans = pd.ExcelFile('data/CBS/Elektriciteitsbalans__aanbod_en_verbruik.xlsx')\n",
    "df_elec_balans = xl_file_elektriciteit_balans.parse(xl_file_elektriciteit_balans.sheet_names[0]).fillna(0)\n",
    "xl_file_hernieuwbare_productie = pd.ExcelFile('data/CBS/Hernieuwbare_elektriciteit__productie_en_vermogen.xlsx')\n",
    "df_hernieuwbare_productie = xl_file_hernieuwbare_productie.parse(xl_file_hernieuwbare_productie.sheet_names[0]).fillna(0)\n",
    "xl_file_hernieuwbare_verbruik = pd.ExcelFile('data/CBS/Hernieuwbare_energie__verbruik_naar_energiebron.xlsx')\n",
    "df_hernieuwbare_verbruik = xl_file_hernieuwbare_verbruik.parse(xl_file_hernieuwbare_verbruik.sheet_names[0]).fillna(0)"
   ]
  },
  {
   "cell_type": "code",
   "execution_count": null,
   "metadata": {},
   "outputs": [],
   "source": [
    "df_elec_prod_totaal = df_elec_prod[df_elec_prod['type'] == 'Totaal'].drop('type', 1)\n",
    "df_elec_balans = df_elec_balans.T.rename(columns=df_elec_balans.T.iloc[0])\n",
    "df_elec_balans = df_elec_balans.drop(df_elec_balans.index[0])\n",
    "df_elec_balans = df_elec_balans.loc[df_elec_balans.index >= 1990]\n",
    "df_hernieuwbare_productie['Netto elektriciteitsproductie percentage'] = df_hernieuwbare_productie['Netto elektriciteitsproductie percentage'].apply(lambda x: float(x) if type(x) == int else float(x.replace(',', '.')))\n",
    "df_hernieuwbare_verbruik['Bruto eindverbruik relatief'] = df_hernieuwbare_verbruik['Bruto eindverbruik relatief'].apply(lambda x: float(x) if type(x) == int or type(x) == float else float(x.replace(',', '.')))\n",
    "df_hernieuwbare_verbruik['Vermeden emissie relatief'] = df_hernieuwbare_verbruik['Vermeden emissie relatief'].apply(lambda x: float(x) if type(x) == int else float(x.replace(',', '.')))"
   ]
  },
  {
   "cell_type": "code",
   "execution_count": null,
   "metadata": {},
   "outputs": [],
   "source": [
    "df_table_wind_turbine = pd.DataFrame()\n",
    "df_table_wind_turbine['Windturbine (%)'] =  round(df_elec_prod_totaal['Windturbine Mwh'] / df_elec_prod_totaal['Totaal Mwh'] * 100,2)\n",
    "df_table_wind_turbine.tail()"
   ]
  },
  {
   "cell_type": "code",
   "execution_count": null,
   "metadata": {},
   "outputs": [],
   "source": [
    "ax = df_elec_prod_totaal.drop(['Totaal Mwh', 'Overige installaties  Mwh'], 1).plot(kind='bar', stacked=True)\n",
    "ax.set_title('Elektriciteit productie Nederland per categorie', size=20)\n",
    "ax.set_ylabel('Productie (MWh)', size=16)\n",
    "ax.set_xlabel('Jaar', size=16)\n",
    "ax.legend(loc='upper left')\n",
    "ax.get_figure().savefig('output/productietotaal.svg', bbox_inches = 'tight')"
   ]
  },
  {
   "cell_type": "code",
   "execution_count": null,
   "metadata": {},
   "outputs": [],
   "source": [
    "ax = df_elec_prod_totaal.loc[[2017]].drop(['Totaal Mwh', 'Overige installaties  Mwh'], 1).T.plot.pie(y=2017,autopct='%1.1f%%',\n",
    "        startangle=90, pctdistance=0.85)\n",
    "ax.legend().remove()\n",
    "ax.set_ylabel('')\n",
    "ax.axis('equal')\n",
    "centre_circle = plt.Circle((0,0),0.70,fc='white')\n",
    "fig = plt.gcf()\n",
    "fig.gca().add_artist(centre_circle)\n",
    "ax.set_title('Energie Productie per categorie 2017', size=20, y=1.02)\n",
    "ax.get_figure().savefig('output/productietotaal2017.svg', bbox_inches = 'tight')"
   ]
  },
  {
   "cell_type": "code",
   "execution_count": null,
   "metadata": {},
   "outputs": [],
   "source": [
    "df1 = df_elec_balans.iloc[:, 0:6].copy()\n",
    "df1['Balans'] = df1['Uitvoer'] - df1['Invoer']\n",
    "df1['Decentraal (%)'] = df1['||Decentraal']/df1['||Totaal productie']*100\n",
    "df1['Decentraal (%)'] = df1['Decentraal (%)'].apply(lambda x: round(x, 2))"
   ]
  },
  {
   "cell_type": "code",
   "execution_count": null,
   "metadata": {},
   "outputs": [],
   "source": [
    "ax = df1['Balans'].plot.bar()\n",
    "ax.set_title('Eletricititeits balans Nederland (uitvoer - invoer)', size=20)\n",
    "ax.set_xlabel('Jaar', size=16)\n",
    "ax.set_ylabel('Balans (ml kWh)', size=16)\n",
    "ax.get_figure().savefig('output/balans.svg', bbox_inches = 'tight')"
   ]
  },
  {
   "cell_type": "code",
   "execution_count": null,
   "metadata": {},
   "outputs": [],
   "source": [
    "fig, axes = plt.subplots(nrows=1, ncols=2)\n",
    "fig.suptitle('Decentrale Elektriciteit productie Nederland', size=20);\n",
    "df1[['||Centraal', '||Decentraal']].plot.bar(stacked=True, ax=axes[0])\n",
    "axes[0].set_ylabel('Productie (mln kWh)', size=16)\n",
    "axes[0].set_xlabel('jaar', size=16)\n",
    "df1['Decentraal (%)'].plot.line(ax=axes[1], grid=True, marker='*')\n",
    "axes[1].set_ylim(15,40)\n",
    "axes[1].set_xlim(1989, 2020)\n",
    "axes[1].set_ylabel('Percentage (%)', size=16)\n",
    "axes[1].set_xlabel('Jaar', size=16)\n",
    "\n",
    "fig.savefig('output/decentraleproductie.svg', bbox_inches = 'tight')"
   ]
  },
  {
   "cell_type": "markdown",
   "metadata": {},
   "source": [
    "Binnenlandse productie van hernieuwbare elektriciteit als percentage van het totale binnenlandse elektriciteitsverbruik. De hernieuwbare elektriciteitsproductie wordt afgezet tegen het totale elektriciteitsverbruik en niet tegen de totale elektriciteitsproductie. Deze keuze vloeit voort uit Europese afspraken."
   ]
  },
  {
   "cell_type": "code",
   "execution_count": null,
   "metadata": {},
   "outputs": [],
   "source": [
    "df2 = df_hernieuwbare_productie[['Netto elektriciteitsproductie', 'Bron/Techniek mln kWh', 'Perioden']]\n",
    "grouped = df2.groupby('Perioden')\n",
    "dfs = []\n",
    "for jaar, df in grouped:\n",
    "    df = df.set_index('Bron/Techniek mln kWh').drop('Perioden', 1).T[['Waterkracht', 'Totaal windenergie', 'Zonnestroom', 'Totaal biomassa', 'Totaal biogas']]\n",
    "    df.index = [jaar]\n",
    "    df.index.name = 'Perioden'\n",
    "    dfs.append(df)\n",
    "df2 = pd.concat(dfs)\n",
    "\n",
    "df3 = df_hernieuwbare_productie[df_hernieuwbare_productie['Bron/Techniek mln kWh'] == 'Totaal hernieuwbare energiebronnen']\n",
    "df3 = df3.set_index('Perioden').drop('Bron/Techniek mln kWh', 1)"
   ]
  },
  {
   "cell_type": "code",
   "execution_count": null,
   "metadata": {},
   "outputs": [],
   "source": [
    "df3['Netto elektriciteitsproductie percentage'].head()"
   ]
  },
  {
   "cell_type": "code",
   "execution_count": null,
   "metadata": {},
   "outputs": [],
   "source": [
    "df3['Netto elektriciteitsproductie percentage'].tail()"
   ]
  },
  {
   "cell_type": "code",
   "execution_count": null,
   "metadata": {
    "scrolled": false
   },
   "outputs": [],
   "source": [
    "fig, axes = plt.subplots(nrows=1, ncols=2)\n",
    "fig.suptitle('Energie Productie Uit Herniewbare Bronnen', size=20)\n",
    "\n",
    "df2.plot.bar(stacked=True, ax=axes[0])\n",
    "axes[0].set_xlabel('Jaar', size=16)\n",
    "axes[0].set_ylabel('Productie (mln kWh)', size=16)\n",
    "axes[0].set_title('Productie Absoluut per Categorie', size=18)\n",
    "\n",
    "df3['Netto elektriciteitsproductie percentage'].plot.line(marker='*', grid=True, ax=axes[1])\n",
    "axes[1].set_xlabel('Jaar', size=16)\n",
    "axes[1].set_ylabel('Productie (%)',size=16)\n",
    "axes[1].set_title('Productie Percentage van Verbruik', size=18)\n",
    "axes[1].set_xlim(1989, 2020)\n",
    "axes[1].set_ylim(0, 15)\n",
    "\n",
    "fig.savefig('output/hernieuwbareproductie.svg', bbox_inches = 'tight')"
   ]
  },
  {
   "cell_type": "code",
   "execution_count": null,
   "metadata": {},
   "outputs": [],
   "source": [
    "df4 = df_hernieuwbare_verbruik[df_hernieuwbare_verbruik['onderwerp'] == 'Totaal energiebronnen'].drop('onderwerp',1)\n",
    "df4 = df4[df4['Energietoepassingen'] != 'Totaal energietoepassingen']\n",
    "df4 = df4[['Perioden', 'Bruto eindverbruik (TJ)', 'Energietoepassingen']]\n",
    "# df4 = df4[df4['Energietoepassingen'] == 'Bruto eindverbruik (TJ)']\n",
    "grouped = df4.groupby('Perioden')\n",
    "jaar, df = list(grouped)[0]\n",
    "dfs = []\n",
    "for jaar, df in grouped:\n",
    "    df = df.drop('Perioden', 1).set_index('Energietoepassingen').T\n",
    "    df.index = [int(jaar)]\n",
    "    df.index.name = 'Perioden'\n",
    "    dfs.append(df)\n",
    "df4 = pd.concat(dfs)\n",
    "\n",
    "df5 = df_hernieuwbare_verbruik[(df_hernieuwbare_verbruik['onderwerp'] == 'Totaal energiebronnen')&(df_hernieuwbare_verbruik['Energietoepassingen'] == 'Totaal energietoepassingen')]\n",
    "df5 = df5[['Perioden', 'Bruto eindverbruik relatief']].set_index('Perioden')"
   ]
  },
  {
   "cell_type": "code",
   "execution_count": null,
   "metadata": {},
   "outputs": [],
   "source": [
    "df5.tail()"
   ]
  },
  {
   "cell_type": "code",
   "execution_count": null,
   "metadata": {},
   "outputs": [],
   "source": [
    "df5.tail()"
   ]
  },
  {
   "cell_type": "code",
   "execution_count": null,
   "metadata": {},
   "outputs": [],
   "source": [
    "fig, axes = plt.subplots(nrows=1, ncols=2)\n",
    "fig.suptitle('Energie Verbruik Uit Hernieuwbare Bronnen', size=20)\n",
    "df4.plot.bar(stacked=True, ax=axes[0])\n",
    "df5.plot.line(ax=axes[1], marker='*', grid=True)\n",
    "\n",
    "axes[0].set_title('Verbruik Absoluut per Categorie', size=18)\n",
    "axes[0].set_xlabel('Jaar', size=16)\n",
    "axes[0].set_ylabel('Verbruik (TJ)')\n",
    "\n",
    "axes[1].set_title('Verbruik Percentage van Totale Verbruik', size=18)\n",
    "axes[1].legend().remove()\n",
    "axes[1].set_ylim(0, 8)\n",
    "axes[1].set_xlim(1989, 2020)\n",
    "axes[1].set_xlabel('Jaar', size=16)\n",
    "axes[1].set_ylabel('Verbruik (%)')\n",
    "\n",
    "fig.savefig('output/hernieuwbareverbruik.svg', bbox_inches = 'tight')"
   ]
  },
  {
   "cell_type": "code",
   "execution_count": null,
   "metadata": {},
   "outputs": [],
   "source": []
  }
 ],
 "metadata": {
  "kernelspec": {
   "display_name": "Python 3",
   "language": "python",
   "name": "python3"
  },
  "language_info": {
   "codemirror_mode": {
    "name": "ipython",
    "version": 3
   },
   "file_extension": ".py",
   "mimetype": "text/x-python",
   "name": "python",
   "nbconvert_exporter": "python",
   "pygments_lexer": "ipython3",
   "version": "3.7.3"
  }
 },
 "nbformat": 4,
 "nbformat_minor": 2
}
