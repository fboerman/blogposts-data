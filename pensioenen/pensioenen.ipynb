{
 "cells": [
  {
   "cell_type": "code",
   "execution_count": null,
   "metadata": {},
   "outputs": [],
   "source": [
    "import numpy as np\n",
    "import pandas as pd\n",
    "%matplotlib inline\n",
    "import matplotlib as mpl\n",
    "import matplotlib.pyplot as plt\n",
    "import seaborn as sns\n",
    "%config IPCompleter.greedy=True"
   ]
  },
  {
   "cell_type": "code",
   "execution_count": null,
   "metadata": {},
   "outputs": [],
   "source": [
    "sns.set_style('dark')\n",
    "plt.rcParams['figure.figsize'] = 20, 10\n",
    "plt.rcParams['lines.markeredgewidth'] = 1\n",
    "plt.style.use(\"dark_background\")\n"
   ]
  },
  {
   "cell_type": "code",
   "execution_count": null,
   "metadata": {},
   "outputs": [],
   "source": [
    "current_palette = sns.color_palette()\n",
    "sns.palplot(current_palette)"
   ]
  },
  {
   "cell_type": "code",
   "execution_count": null,
   "metadata": {},
   "outputs": [],
   "source": [
    "# loading the input data\n",
    "\n",
    "xl_file_sociale_zekerheid = pd.ExcelFile('data/CBS/Tijdreeksen_sociale_zekerheid.xlsx')\n",
    "df_sociale_zekerheid = xl_file_sociale_zekerheid.parse(xl_file_sociale_zekerheid.sheet_names[0])\n",
    "xl_file_bevolking_groei = pd.ExcelFile('data/CBS/Bevolking__huishoudens_en_bevolkingsontwikkeling.xlsx')\n",
    "df_bevolking_groei = xl_file_bevolking_groei.parse(xl_file_bevolking_groei.sheet_names[0])\n",
    "xl_file_arbeids_deelname = pd.ExcelFile('data/CBS/Arbeidsdeelname__vanaf_1969.xlsx')\n",
    "df_arbeids_deelname = xl_file_arbeids_deelname.parse(xl_file_arbeids_deelname.sheet_names[0])\n",
    "\n",
    "df_arbeids_deelname['Werkloosheidspercentage'] = df_arbeids_deelname['Werkloosheidspercentage'].apply(lambda x: float(x.replace(',', '.')))"
   ]
  },
  {
   "cell_type": "code",
   "execution_count": null,
   "metadata": {},
   "outputs": [],
   "source": [
    "# couple of constants\n",
    "START_JAAR = 1969"
   ]
  },
  {
   "cell_type": "code",
   "execution_count": null,
   "metadata": {},
   "outputs": [],
   "source": [
    "# filter all data to after pensions were made law\n",
    "df_sociale_zekerheid = df_sociale_zekerheid.set_index('Perioden').loc[df_sociale_zekerheid.set_index('Perioden').index >= START_JAAR]\n",
    "df_bevolking_groei = df_bevolking_groei.set_index('Perioden').T.loc[df_bevolking_groei.set_index('Perioden').T.index >= START_JAAR]\n",
    "df_arbeids_deelname = df_arbeids_deelname.set_index('Perioden').loc[df_arbeids_deelname.set_index('Perioden').index >= START_JAAR]"
   ]
  },
  {
   "cell_type": "code",
   "execution_count": null,
   "metadata": {
    "scrolled": false
   },
   "outputs": [],
   "source": [
    "ax = df_bevolking_groei['Totaal bevolking'].plot(kind='bar')\n",
    "ax.set_title('Bevolkingsgroei vanaf 1969', size=20)\n",
    "ax.set_xlabel('Jaar', size=16)\n",
    "ax.set_ylabel('Bevolking (x 1000)', size=16)\n",
    "ax.get_figure().savefig('output/bevolkingsgroei.svg', bbox_inches = 'tight')"
   ]
  },
  {
   "cell_type": "code",
   "execution_count": null,
   "metadata": {},
   "outputs": [],
   "source": [
    "print(\"van {} naar {} (x 1000)\".format(df_bevolking_groei['Totaal bevolking'].iloc[0], df_bevolking_groei['Totaal bevolking'].iloc[-1]))"
   ]
  },
  {
   "cell_type": "code",
   "execution_count": null,
   "metadata": {},
   "outputs": [],
   "source": [
    "df1 = pd.DataFrame()\n",
    "df1['0-65'] = df_bevolking_groei['Totaal bevolking'] - df_bevolking_groei['65 tot 80 jaar'] - df_bevolking_groei['80 jaar of ouder']\n",
    "df1['65+'] = df_bevolking_groei['65 tot 80 jaar'] + df_bevolking_groei['80 jaar of ouder']\n",
    "df1['percentage 65+'] = df1['65+']/(df1['0-65']+df1['65+'])*100\n",
    "df1['percentage 65+'] = df1['percentage 65+'].apply(lambda x: round(x, 2))"
   ]
  },
  {
   "cell_type": "code",
   "execution_count": null,
   "metadata": {
    "scrolled": false
   },
   "outputs": [],
   "source": [
    "fig, axes = plt.subplots(nrows=1, ncols=2)\n",
    "fig.suptitle('Aandeel 65+ in totale bevolking', size=20)\n",
    "df1[['0-65', '65+']].plot(kind='bar', stacked=True, ax=axes[0])\n",
    "axes[0].set_xlabel('Jaar', size=16)\n",
    "axes[0].set_ylabel('Aantal (x 1000)', size=16)\n",
    "df1[['percentage 65+']].plot(kind='line', ax=axes[1], grid=True, marker='*')\n",
    "axes[1].set_xlabel('Jaar', size=16)\n",
    "axes[1].set_ylabel('Percentage (%)', size=16)\n",
    "axes[1].set_ylim(9,20)\n",
    "axes[1].set_xlim(1965, 2020)\n",
    "axes[1].get_legend().remove()\n",
    "fig.savefig('output/aandeel65.svg', bbox_inches = 'tight')"
   ]
  },
  {
   "cell_type": "code",
   "execution_count": null,
   "metadata": {},
   "outputs": [],
   "source": [
    "print(\"aantal van {} naar {} (x1000)\".format(df1['65+'].iloc[0], df1['65+'].iloc[-1]))\n",
    "print(\"percentage van {} naar {}\".format(df1['percentage 65+'].iloc[0], df1['percentage 65+'].iloc[-1]))"
   ]
  },
  {
   "cell_type": "code",
   "execution_count": null,
   "metadata": {},
   "outputs": [],
   "source": [
    "df2 = pd.DataFrame()\n",
    "\n",
    "df2['Overige bevolking'] = df_bevolking_groei['Totaal bevolking'] - df_arbeids_deelname['Beroepsbevolking']\n",
    "df2['Beroepsbevolking'] = df_arbeids_deelname['Beroepsbevolking']\n",
    "df2['Beroepsbevolking (%)'] = df2['Beroepsbevolking']/(df2['Beroepsbevolking'] + df2['Overige bevolking']) * 100\n",
    "df2 = df2[:-1] #remove 2018 with incomplete data\n",
    "df2['Beroepsbevolking (%)'] = df2['Beroepsbevolking (%)'].apply(lambda x: round(x, 2))"
   ]
  },
  {
   "cell_type": "code",
   "execution_count": null,
   "metadata": {
    "scrolled": false
   },
   "outputs": [],
   "source": [
    "fig, axes = plt.subplots(nrows=1, ncols=2)\n",
    "fig.suptitle('Aandeel beroepsbevolking in totale bevolking', size=20)\n",
    "df2[['Overige bevolking', 'Beroepsbevolking']].plot(kind='bar', stacked=True, ax=axes[0])\n",
    "axes[0].set_xlabel('Jaar', size=16)\n",
    "axes[0].set_ylabel('Aantal (x 1000)', size=16)\n",
    "df2[['Beroepsbevolking (%)']].plot(kind='line', ax=axes[1], grid=True, marker='*')\n",
    "axes[1].set_xlabel('Jaar', size=16)\n",
    "axes[1].set_ylabel('Percentage (%)', size=16)\n",
    "axes[1].set_ylim(40,60)\n",
    "axes[1].set_xlim(1965, 2020)\n",
    "axes[1].get_legend().remove()\n",
    "fig.savefig('output/aandeelberoepsbevolking.svg', bbox_inches = 'tight')"
   ]
  },
  {
   "cell_type": "code",
   "execution_count": null,
   "metadata": {},
   "outputs": [],
   "source": [
    "print(\"beroepsbevolking van {} naar {} (x 1000)\".format(df2['Beroepsbevolking'].iloc[0], df2['Beroepsbevolking'].iloc[-1]))\n",
    "print(\"percentage beroepsbevolking van {} naar {} (%)\".format(df2['Beroepsbevolking (%)'].iloc[0],df2['Beroepsbevolking (%)'].iloc[-1]))"
   ]
  },
  {
   "cell_type": "code",
   "execution_count": null,
   "metadata": {},
   "outputs": [],
   "source": [
    "df3 = pd.DataFrame()\n",
    "df3['Beroepsbevolking'] = df_arbeids_deelname['Beroepsbevolking']\n",
    "df3['AOW'] = df_sociale_zekerheid['AOW']\n",
    "df3 = df3[:-1] #remove 2018 with incomplete data\n",
    "df3['Werkende per AOW'] = df3['Beroepsbevolking'] / df3['AOW']\n",
    "df3['Werkende per AOW'] = df3['Werkende per AOW'].apply(lambda x: round(x, 2))"
   ]
  },
  {
   "cell_type": "markdown",
   "metadata": {},
   "source": [
    "Belangrijke wetswijzigingen: Per 1 april 1985 heeft in de AOW, een algemene volksverzekering voor een welvaartsvast ouderdomspensioen bij het bereiken van de 65-jarige leeftijd, een aanpassing plaatsgehad conform de EG-richtlijnen over de gelijke behandeling van man en vrouw. De gehuwde man en vrouw hebben sindsdien ieder een zelfstandig recht op ouderdomspensioen als zij 65 jaar of ouder zijn. Het pensioen is gesteld op 50% van het netto-minimumloon. In de jaren voor 1985 werd onderscheid gemaakt tussen een uitkering voor gehuwden en een uitkering voor ongehuwden. De cijfers zijn vanaf dat moment daarom niet zonder meer vergelijkbaar met die van voorgaande jaren. Vanaf 1 januari 2013 wordt de AOW-leeftijd jaarljiks met een of meerdere maanden verhoogd en wordt op termijn gekoppeld aan de levensverwachting. De aantallen geven de situatie weer op 31 december."
   ]
  },
  {
   "cell_type": "code",
   "execution_count": null,
   "metadata": {},
   "outputs": [],
   "source": [
    "ax = df_sociale_zekerheid['AOW'].plot(grid=True, marker='*')\n",
    "ax.set_xlim(1965, 2020)\n",
    "ax.set_ylim(1000, 3500)\n",
    "ax.set_title ('Aantal AOW uitkeringen', size=20)\n",
    "ax.set_xlabel('Jaar', size=16)\n",
    "ax.set_ylabel('Aantal (x 1000)', size=16)\n",
    "ax.get_figure().savefig('output/aantaalaowuitkeringen.svg', bbox_inches = 'tight')"
   ]
  },
  {
   "cell_type": "code",
   "execution_count": null,
   "metadata": {},
   "outputs": [],
   "source": [
    "ax = df3['Werkende per AOW'].plot(grid=True, marker='*')\n",
    "ax.set_ylim(2.5, 5.5)\n",
    "ax.set_xlim(1965, 2020)\n",
    "ax.set_title ('Aantal werkende per AOW uitkering', size=20)\n",
    "ax.set_xlabel('Jaar', size=16)\n",
    "ax.set_ylabel('Aantal', size=16);\n",
    "ax.get_figure().savefig('output/aantalwerkendeperaow.svg', bbox_inches = 'tight')"
   ]
  },
  {
   "cell_type": "code",
   "execution_count": null,
   "metadata": {},
   "outputs": [],
   "source": [
    "df4 = pd.DataFrame(columns=[\"tijdsperiode\", \"voor\", \"na\"], data=[\n",
    "    [\"1969-1985\", df3['Werkende per AOW'][1969], df3['Werkende per AOW'][1984]],\n",
    "    [\"1986-2017\", df3['Werkende per AOW'][1986], df3['Werkende per AOW'].iloc[-1]]\n",
    "])\n",
    "df4[\"verschil (%)\"] = round((df4['na']-df4['voor'])/df4['na']*100,2)\n",
    "df4 = df4.set_index('tijdsperiode')"
   ]
  },
  {
   "cell_type": "code",
   "execution_count": null,
   "metadata": {},
   "outputs": [],
   "source": [
    "df4"
   ]
  },
  {
   "cell_type": "code",
   "execution_count": null,
   "metadata": {},
   "outputs": [],
   "source": []
  }
 ],
 "metadata": {
  "kernelspec": {
   "display_name": "Python 3",
   "language": "python",
   "name": "python3"
  },
  "language_info": {
   "codemirror_mode": {
    "name": "ipython",
    "version": 3
   },
   "file_extension": ".py",
   "mimetype": "text/x-python",
   "name": "python",
   "nbconvert_exporter": "python",
   "pygments_lexer": "ipython3",
   "version": "3.7.2"
  }
 },
 "nbformat": 4,
 "nbformat_minor": 2
}
